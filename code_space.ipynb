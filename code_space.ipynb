{
 "cells": [
  {
   "cell_type": "code",
   "execution_count": 5,
   "id": "2271d8a1-a6b0-4be4-86b7-b3ea4e6205be",
   "metadata": {},
   "outputs": [],
   "source": [
    "import pandas as pd\n",
    "import numpy as np\n",
    "import matplotlib.pyplot as plt\n",
    "\n",
    "np.random.seed(0)"
   ]
  },
  {
   "cell_type": "code",
   "execution_count": null,
   "id": "d3d3f827-1b9d-48b0-835f-e7e8b681dc7c",
   "metadata": {},
   "outputs": [],
   "source": [
    "def engagement_model():\n",
    "    \n",
    "    from sklearn.model_selection import GridSearchCV, train_test_split\n",
    "    from sklearn.metrics import roc_curve, auc\n",
    "    from sklearn.ensemble import GradientBoostingClassifier\n",
    "    \n",
    "    \n",
    "    df_train = pd.read_csv('train.csv')\n",
    "    X_train = df_train[['title_word_count', 'document_entropy', 'freshness', 'easiness', 'fraction_stopword_presence',\n",
    "                        'speaker_speed', 'silent_period_rate']]\n",
    "    y_train = df_train[['engagement']]\n",
    "    \n",
    "    \n",
    "    df_test = pd.read_csv('test.csv')\n",
    "    X_test = df_test[['title_word_count', 'document_entropy', 'freshness', 'easiness', 'fraction_stopword_presence',\n",
    "                        'speaker_speed', 'silent_period_rate']]\n",
    "    \n",
    "    \n",
    "    grid_values = {'learning_rate':[0.05, 0.1, 0.5], 'max_depth':[3, 4, 5]}\n",
    "    clf = GradientBoostingClassifier(random_state=0)\n",
    "    grid_clf = GridSearchCV(clf, param_grid=grid_values, scoring='roc_auc')\n",
    "    grid_clf.fit(X_train, y_train)\n",
    "    best_grid_clf = grid_clf.best_estimator_\n",
    "    print('best parameter: ', grid_clf.best_params_)\n",
    "    print('training score (auc): ', grid_clf.best_score_)\n",
    "\n",
    "    return pd.Series(best_grid_clf.predict_proba(X_test)[:,1], index=df_test['id'])\n",
    "\n",
    "\n",
    "#engagement_model()"
   ]
  },
  {
   "cell_type": "code",
   "execution_count": null,
   "id": "045f2663-dacc-4623-89cc-547ef900f4d7",
   "metadata": {},
   "outputs": [],
   "source": []
  }
 ],
 "metadata": {
  "kernelspec": {
   "display_name": "Python 3 (ipykernel)",
   "language": "python",
   "name": "python3"
  },
  "language_info": {
   "codemirror_mode": {
    "name": "ipython",
    "version": 3
   },
   "file_extension": ".py",
   "mimetype": "text/x-python",
   "name": "python",
   "nbconvert_exporter": "python",
   "pygments_lexer": "ipython3",
   "version": "3.9.13"
  }
 },
 "nbformat": 4,
 "nbformat_minor": 5
}
